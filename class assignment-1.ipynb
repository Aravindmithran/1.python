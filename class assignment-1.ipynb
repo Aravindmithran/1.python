{
 "cells": [
  {
   "cell_type": "code",
   "execution_count": 1,
   "metadata": {},
   "outputs": [],
   "source": [
    "class multiple():\n",
    "    def subfield():\n",
    "        print(\"Sub-fields in AI are:\")\n",
    "        list=['Machine learning','Neural Networks','Vision','Robotics','Speech processing','Natural language processing']\n",
    "        for value in list:\n",
    "            print(value)\n",
    "            \n",
    "    def oddeven():\n",
    "        num=int(input(\"Enter the number:\"))\n",
    "        if((num%2)==0):\n",
    "            print(\"52452 is even number\")\n",
    "        else:\n",
    "            print(\"not even number\")\n",
    "            \n",
    "    def marriageeligibility():\n",
    "        gender=input(\"gender:\")\n",
    "        age=int(input(\"enter age:\"))\n",
    "        if(gender=='male'):\n",
    "                    if(age>=21):\n",
    "                         print(\"eligibile\")\n",
    "                    else:\n",
    "                         print(\"not eligibile\")\n",
    "        elif(gender=='female'):\n",
    "                    if(age>18):\n",
    "                         print(\"eligibile\")\n",
    "                    else:\n",
    "                         print(\"not eligibile\")\n",
    "        else:\n",
    "            print(\"no data\")\n",
    "            \n",
    "    def percentage():\n",
    "        sub1=int(input(\"subject1:\"))\n",
    "        sub2=int(input(\"subject2:\"))\n",
    "        sub3=int(input(\"subject3:\"))\n",
    "        sub4=int(input(\"subject4:\"))\n",
    "        sub5=int(input(\"subject5:\"))\n",
    "        print(\"Total:\",sub1+sub2+sub3+sub4+sub5)\n",
    "        print(\"percentage:\",((sub1+sub2+sub3+sub4+sub5)/500*100))\n",
    "        \n",
    "    def Triangel():\n",
    "        Height=int(input(\"Height:\"))\n",
    "        breadth=int(input(\"breadth:\"))\n",
    "        print(\"Area formula=(Height*breadth)/2\")\n",
    "        print(\"Area of triagle:\",(Height*breadth)/2)\n",
    "        Height1=int(input(\"Height1:\"))\n",
    "        Height2=int(input(\"Height2:\"))\n",
    "        Breadth=int(input(\"Breadth:\"))\n",
    "        print(\"perimeter formula: Height1+Height2+Breadth\")\n",
    "        print(\"perimeter of triangle:\",Height1+Height2+Breadth)"
   ]
  },
  {
   "cell_type": "code",
   "execution_count": 2,
   "metadata": {},
   "outputs": [
    {
     "name": "stdout",
     "output_type": "stream",
     "text": [
      "Sub-fields in AI are:\n",
      "Machine learning\n",
      "Neural Networks\n",
      "Vision\n",
      "Robotics\n",
      "Speech processing\n",
      "Natural language processing\n"
     ]
    }
   ],
   "source": [
    "multiple.subfield()"
   ]
  },
  {
   "cell_type": "code",
   "execution_count": 3,
   "metadata": {},
   "outputs": [
    {
     "name": "stdout",
     "output_type": "stream",
     "text": [
      "Enter the number:52452\n",
      "52452 is even number\n"
     ]
    }
   ],
   "source": [
    "multiple.oddeven()"
   ]
  },
  {
   "cell_type": "code",
   "execution_count": 4,
   "metadata": {},
   "outputs": [
    {
     "name": "stdout",
     "output_type": "stream",
     "text": [
      "gender:male\n",
      "enter age:21\n",
      "eligibile\n"
     ]
    }
   ],
   "source": [
    "multiple.marriageeligibility()"
   ]
  },
  {
   "cell_type": "code",
   "execution_count": 5,
   "metadata": {},
   "outputs": [
    {
     "name": "stdout",
     "output_type": "stream",
     "text": [
      "subject1:98\n",
      "subject2:87\n",
      "subject3:95\n",
      "subject4:95\n",
      "subject5:93\n",
      "Total: 468\n",
      "percentage: 93.60000000000001\n"
     ]
    }
   ],
   "source": [
    "multiple.percentage()"
   ]
  },
  {
   "cell_type": "code",
   "execution_count": 6,
   "metadata": {},
   "outputs": [
    {
     "name": "stdout",
     "output_type": "stream",
     "text": [
      "Height:32\n",
      "breadth:34\n",
      "Area formula=(Height*breadth)/2\n",
      "Area of triagle: 544.0\n",
      "Height1:2\n",
      "Height2:4\n",
      "Breadth:4\n",
      "perimeter formula: Height1+Height2+Breadth\n",
      "perimeter of triangle: 10\n"
     ]
    }
   ],
   "source": [
    "multiple.Triangel()"
   ]
  },
  {
   "cell_type": "code",
   "execution_count": null,
   "metadata": {},
   "outputs": [],
   "source": []
  }
 ],
 "metadata": {
  "kernelspec": {
   "display_name": "Python 3",
   "language": "python",
   "name": "python3"
  },
  "language_info": {
   "codemirror_mode": {
    "name": "ipython",
    "version": 3
   },
   "file_extension": ".py",
   "mimetype": "text/x-python",
   "name": "python",
   "nbconvert_exporter": "python",
   "pygments_lexer": "ipython3",
   "version": "3.7.4"
  }
 },
 "nbformat": 4,
 "nbformat_minor": 2
}
