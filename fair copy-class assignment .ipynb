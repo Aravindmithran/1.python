{
 "cells": [
  {
   "cell_type": "code",
   "execution_count": 1,
   "metadata": {},
   "outputs": [],
   "source": [
    "from classAssignment import multiple"
   ]
  },
  {
   "cell_type": "code",
   "execution_count": 2,
   "metadata": {},
   "outputs": [
    {
     "name": "stdout",
     "output_type": "stream",
     "text": [
      "Sub-fields in AI are:\n",
      "Machine learning\n",
      "Neural Networks\n",
      "Vision\n",
      "Robotics\n",
      "Speech processing\n",
      "Natural language processing\n"
     ]
    }
   ],
   "source": [
    "multiple.subfield()"
   ]
  },
  {
   "cell_type": "code",
   "execution_count": 3,
   "metadata": {},
   "outputs": [
    {
     "name": "stdout",
     "output_type": "stream",
     "text": [
      "Enter the number:52452\n",
      "52452 is even number\n"
     ]
    }
   ],
   "source": [
    "multiple.oddeven()"
   ]
  },
  {
   "cell_type": "code",
   "execution_count": 4,
   "metadata": {},
   "outputs": [
    {
     "name": "stdout",
     "output_type": "stream",
     "text": [
      "gender:male\n",
      "enter age:21\n",
      "eligibile\n"
     ]
    }
   ],
   "source": [
    "multiple.marriageeligibility()"
   ]
  },
  {
   "cell_type": "code",
   "execution_count": 5,
   "metadata": {},
   "outputs": [
    {
     "name": "stdout",
     "output_type": "stream",
     "text": [
      "subject1:98\n",
      "subject2:87\n",
      "subject3:95\n",
      "subject4:95\n",
      "subject5:93\n",
      "Total: 468\n",
      "percentage: 93.60000000000001\n"
     ]
    }
   ],
   "source": [
    "multiple.percentage()"
   ]
  },
  {
   "cell_type": "code",
   "execution_count": 6,
   "metadata": {},
   "outputs": [
    {
     "name": "stdout",
     "output_type": "stream",
     "text": [
      "Height:32\n",
      "breadth:34\n",
      "Area formula=(Height*breadth)/2\n",
      "Area of triagle: 544.0\n",
      "Height1:2\n",
      "Height2:4\n",
      "Breadth:4\n",
      "perimeter formula: Height1+Height2+Breadth\n",
      "perimeter of triangle: 10\n"
     ]
    }
   ],
   "source": [
    "multiple.Triangel()"
   ]
  },
  {
   "cell_type": "code",
   "execution_count": null,
   "metadata": {},
   "outputs": [],
   "source": []
  }
 ],
 "metadata": {
  "kernelspec": {
   "display_name": "Python 3",
   "language": "python",
   "name": "python3"
  },
  "language_info": {
   "codemirror_mode": {
    "name": "ipython",
    "version": 3
   },
   "file_extension": ".py",
   "mimetype": "text/x-python",
   "name": "python",
   "nbconvert_exporter": "python",
   "pygments_lexer": "ipython3",
   "version": "3.7.4"
  }
 },
 "nbformat": 4,
 "nbformat_minor": 2
}
